{
  "nbformat": 4,
  "nbformat_minor": 0,
  "metadata": {
    "colab": {
      "provenance": [],
      "toc_visible": true,
      "authorship_tag": "ABX9TyMfnK7qQV/W4yhNnTQih3tn",
      "include_colab_link": true
    },
    "kernelspec": {
      "name": "python3",
      "display_name": "Python 3"
    },
    "language_info": {
      "name": "python"
    }
  },
  "cells": [
    {
      "cell_type": "markdown",
      "metadata": {
        "id": "view-in-github",
        "colab_type": "text"
      },
      "source": [
        "<a href=\"https://colab.research.google.com/github/Aironys1/-1-Aula-Exerc-cio-P-gina-de-tributo/blob/master/Python_Para_Analise_de_Dados.ipynb\" target=\"_parent\"><img src=\"https://colab.research.google.com/assets/colab-badge.svg\" alt=\"Open In Colab\"/></a>"
      ]
    },
    {
      "cell_type": "markdown",
      "source": [
        "# Módulo 1 - Programação em Python\n"
      ],
      "metadata": {
        "id": "5MbcQ5ytJRHR"
      }
    },
    {
      "cell_type": "markdown",
      "source": [],
      "metadata": {
        "id": "i9C2nSuuKkvL"
      }
    },
    {
      "cell_type": "markdown",
      "source": [
        "### o que é Python?\n",
        "Python é uma linguagem de programação popular, python pode ser usado para:\n",
        "\n",
        "\n",
        "\n",
        "1.  Inteligência Artificial\n",
        "\n",
        "1.  Machine Learning\n",
        "\n",
        "1.  Desevolvimento de Software\n",
        "\n",
        "1.  Desenvolvimento de Aplicativos\n",
        "\n",
        "1.  Automações (RPA)\n",
        "2.  IoT (Internete das Coisas)\n",
        "\n",
        "2.  E muito mais\n",
        "\n",
        "\n",
        "\n",
        "\n"
      ],
      "metadata": {
        "id": "zXdSZEcqJbUJ"
      }
    },
    {
      "cell_type": "markdown",
      "source": [
        "## 1 - Sintaze Básica"
      ],
      "metadata": {
        "id": "Y37ZJKh6Kmi8"
      }
    },
    {
      "cell_type": "code",
      "source": [
        "# Blocos de comandos\n",
        "print(\"Seja bem vindo ao mundo da programão!\")\n",
        "\n",
        "'''\n",
        "Aqui é um comentário em bloco.\n",
        "\n",
        "Para pular uma linha usamos o comando (\\n)\n",
        "\n",
        "Usamos (#) para comentário em linha\n",
        "\n",
        "'''\n"
      ],
      "metadata": {
        "colab": {
          "base_uri": "https://localhost:8080/",
          "height": 53
        },
        "id": "7Sd8OwRXKsYD",
        "outputId": "62b6e971-4c08-4781-faa7-d8ea4b9db819"
      },
      "execution_count": null,
      "outputs": [
        {
          "output_type": "stream",
          "name": "stdout",
          "text": [
            "Seja bem vindo ao mundo da programão!\n"
          ]
        },
        {
          "output_type": "execute_result",
          "data": {
            "text/plain": [
              "'\\nAqui é um comentário em bloco.\\n\\nPara pular uma linha usamos o comando (\\n)\\n\\nUsamos (#) para comentário em linha\\n\\n'"
            ],
            "application/vnd.google.colaboratory.intrinsic+json": {
              "type": "string"
            }
          },
          "metadata": {},
          "execution_count": 75
        }
      ]
    },
    {
      "cell_type": "code",
      "source": [
        "nome = input('Qual seu nome? \\n')\n",
        "mensagem = (nome)\n",
        "print(\"Seja bem vindo\", nome)\n"
      ],
      "metadata": {
        "id": "A4UrUFB5LC2O"
      },
      "execution_count": null,
      "outputs": []
    },
    {
      "cell_type": "markdown",
      "source": [],
      "metadata": {
        "id": "Qq5Tv7kMMISE"
      }
    },
    {
      "cell_type": "markdown",
      "source": [
        "## 2-Operadores matemáticos\n",
        "\n",
        "\n",
        "\n",
        "*   Soma\n",
        "\n",
        "*   Subtração\n",
        "\n",
        "*   Multiplicação\n",
        "*   Divisão\n",
        "\n",
        "\n",
        "*   Exponenciação\n",
        "\n",
        "\n",
        "*   Resto da Divisão\n",
        "\n",
        "\n",
        "*   Divisão de Chão\n",
        "\n",
        "\n"
      ],
      "metadata": {
        "id": "byOMtQDpMNM_"
      }
    },
    {
      "cell_type": "code",
      "source": [
        "# Soma \n",
        "1+ 5 +9 +20"
      ],
      "metadata": {
        "id": "LktFzAO0MRev"
      },
      "execution_count": null,
      "outputs": []
    },
    {
      "cell_type": "code",
      "source": [
        "# Multiplicação \n",
        "16 * 3"
      ],
      "metadata": {
        "id": "mBAq3PR6MUvx"
      },
      "execution_count": null,
      "outputs": []
    },
    {
      "cell_type": "code",
      "source": [
        "# Divisão \n",
        "20 / 3"
      ],
      "metadata": {
        "id": "OgzT42SqMYVr"
      },
      "execution_count": null,
      "outputs": []
    },
    {
      "cell_type": "code",
      "source": [
        "# Exponenciação \n",
        "4 ** 3 "
      ],
      "metadata": {
        "id": "5gDOh8-yMbW1"
      },
      "execution_count": null,
      "outputs": []
    },
    {
      "cell_type": "code",
      "source": [
        "# Resto da Divisão \n",
        "9 % 3"
      ],
      "metadata": {
        "id": "8QggbUuNMh8A"
      },
      "execution_count": null,
      "outputs": []
    },
    {
      "cell_type": "code",
      "source": [
        "# Divisão de Chão\n",
        "11 // 3"
      ],
      "metadata": {
        "id": "1eXnxX0_Mtrm"
      },
      "execution_count": null,
      "outputs": []
    },
    {
      "cell_type": "code",
      "source": [],
      "metadata": {
        "id": "BZMuPLGuM2LD"
      },
      "execution_count": null,
      "outputs": []
    },
    {
      "cell_type": "markdown",
      "source": [],
      "metadata": {
        "id": "jyvzn03LOFdk"
      }
    },
    {
      "cell_type": "markdown",
      "source": [
        "## 3 - Variáveis\n"
      ],
      "metadata": {
        "id": "KiRfqOA-OJO0"
      }
    },
    {
      "cell_type": "code",
      "source": [
        "# Criando duas variáveis\n",
        "time = \"Palmeiras\"\n",
        "selecao = \"Brasil\""
      ],
      "metadata": {
        "id": "FoQcdoJ9OOKo"
      },
      "execution_count": null,
      "outputs": []
    },
    {
      "cell_type": "code",
      "source": [
        "print(time, selecao)"
      ],
      "metadata": {
        "id": "TlM3zhMeOYXO"
      },
      "execution_count": null,
      "outputs": []
    },
    {
      "cell_type": "code",
      "source": [
        "# Variáveis de texto\n",
        "texto1 = 'Temos uma variávei de texto'\n",
        "print(texto1)"
      ],
      "metadata": {
        "id": "Li5ozP7IOcEf"
      },
      "execution_count": null,
      "outputs": []
    },
    {
      "cell_type": "code",
      "source": [
        "texto2 = str(\"Sou uma variável de texto declarada em STR\")\n",
        "print(texto2)"
      ],
      "metadata": {
        "id": "NaaEfDRfOrzo"
      },
      "execution_count": null,
      "outputs": []
    },
    {
      "cell_type": "code",
      "source": [
        "# Variáveis numéricas\n",
        "numero1 = 1990\n",
        "numero2 =  int(5)\n",
        "numero3 = int(12)\n",
        "\n",
        "data_nascimento = (numero2, numero3, numero1)\n",
        "\n",
        "print(data_nascimento)"
      ],
      "metadata": {
        "id": "PS0PIh_zO0yl"
      },
      "execution_count": null,
      "outputs": []
    },
    {
      "cell_type": "code",
      "source": [
        "print(\"Eu nasci em: \\n\", data_nascimento)"
      ],
      "metadata": {
        "id": "C3SiwDvUP9qC"
      },
      "execution_count": null,
      "outputs": []
    },
    {
      "cell_type": "code",
      "source": [
        "# Pontos flutuantes \n",
        "\n",
        "peso = 75.5\n",
        "altura = 1.70\n",
        "imc = peso / altura**2\n",
        "\n",
        "print(imc)"
      ],
      "metadata": {
        "id": "J2vc2Nr5QESG"
      },
      "execution_count": null,
      "outputs": []
    },
    {
      "cell_type": "code",
      "source": [
        "# Criando uma calculadora de IMC\n",
        "seuNome = str(input(\"Seu nome: \"))\n",
        "seuPeso = float(input(\"Digite seu peso: \"))\n",
        "print(\"Seu peso é: \", seuPeso)\n",
        "suaAltura = float(input(\"Digite sua altura: \"))\n",
        "print(\"Sua altura é: \", suaAltura)\n",
        "print(\"\\n\")\n",
        "print(\"Aqui seu IMC: \\n O IMC é reconhecido como padrão internacional para avaliar o grau de sobrepeso e obesidade.  \\n  É calculado dividindo o peso (em kg) pela altura ao quadrado (em metros).\")\n",
        "imc = float(seuPeso / (altura * altura))\n",
        "print(seuNome,\"!\",\"\\n Seu IMC é: %.2f \" % imc)"
      ],
      "metadata": {
        "id": "JWhL2lDjQqwa"
      },
      "execution_count": null,
      "outputs": []
    },
    {
      "cell_type": "code",
      "source": [
        "# Variáveis Boleanas, elas são usadas para veredadeiros ou falsos\n",
        "falso = False\n",
        "verdadeiro = True"
      ],
      "metadata": {
        "id": "SJDMU7SwRXF4"
      },
      "execution_count": null,
      "outputs": []
    },
    {
      "cell_type": "code",
      "source": [
        "print(falso)\n",
        "print(verdadeiro)"
      ],
      "metadata": {
        "id": "xZBa03b2WjNc"
      },
      "execution_count": null,
      "outputs": []
    },
    {
      "cell_type": "code",
      "source": [
        "print((falso == 0))\n",
        "print((verdadeiro == 0))\n",
        "print((0 == False))"
      ],
      "metadata": {
        "id": "KkeVpw2PWsKS"
      },
      "execution_count": null,
      "outputs": []
    },
    {
      "cell_type": "markdown",
      "source": [
        "##4-Tipos de Dados"
      ],
      "metadata": {
        "id": "LEL73K7_XyoR"
      }
    },
    {
      "cell_type": "markdown",
      "source": [
        "\n",
        "Vamos trabalhar com:\n",
        "*   Listas []\n",
        "\n",
        "*   Tuplas ()\n",
        "*   Dicionários {}\n",
        "\n",
        "Esses tipos de dados podem receber tipo de informação, inclusive operações Aritméticas\n",
        "\n"
      ],
      "metadata": {
        "id": "t-u1wgn_X7bd"
      }
    },
    {
      "cell_type": "code",
      "source": [
        "# Listas podemos passar uma cadeias de valores\n",
        "\n",
        "\n",
        "lista1 = [10,5,9,8,15,30]\n",
        "lista1\n"
      ],
      "metadata": {
        "id": "oS_SnVsDYgoG"
      },
      "execution_count": null,
      "outputs": []
    },
    {
      "cell_type": "code",
      "source": [
        "lista2 = [\"Aironys\", \"1990\", \"Palemiras\", 5, 12, True]\n",
        "lista2"
      ],
      "metadata": {
        "id": "pV4bVIbEZWQL"
      },
      "execution_count": null,
      "outputs": []
    },
    {
      "cell_type": "code",
      "source": [
        "# Acessando valores em uma lista pelo indice\n",
        "lista2[2:3]\n"
      ],
      "metadata": {
        "id": "MGTnTItQZl0p"
      },
      "execution_count": null,
      "outputs": []
    },
    {
      "cell_type": "code",
      "source": [
        "# Tuplas são formandos por parenteses e são valores imutáveis\n",
        "# Não podemos alterar os valores depois de criadas\n",
        "\n",
        "tupla1 = (\"Valor 1\", True, False, 150, [50,895, \"Oi\"], [1])\n",
        "tupla1"
      ],
      "metadata": {
        "id": "uor-0uVwZ9cH"
      },
      "execution_count": null,
      "outputs": []
    },
    {
      "cell_type": "code",
      "source": [
        "# Dicionários\n",
        "# São formados por chaves {}\n",
        "\n",
        "dicionario = {\n",
        "    'Nome': 'Aironys Garrido',\n",
        "    'Id': 1,\n",
        "    'Cargo': 'Analista de Sistemas',\n",
        "    'Salario': 3500,\n",
        "    'tupla1': tupla1,\n",
        "    'lista2': lista2,\n",
        "    'lista1':lista1\n",
        "}\n",
        "\n",
        "dicionario"
      ],
      "metadata": {
        "id": "Dbm0b4scjpko"
      },
      "execution_count": null,
      "outputs": []
    },
    {
      "cell_type": "markdown",
      "source": [
        "## 5 - Nomeação de Variáveis"
      ],
      "metadata": {
        "id": "iWU_L0v3k4Jb"
      }
    },
    {
      "cell_type": "code",
      "source": [
        "morango = uva = banana = 250\n",
        "print(morango, uva, banana)"
      ],
      "metadata": {
        "id": "kpI7i9Jgk8lY"
      },
      "execution_count": null,
      "outputs": []
    },
    {
      "cell_type": "code",
      "source": [
        "# Nomear com listas \n",
        "listas_Carros = ['BMW', 'Audi', 'Tesla']\n",
        "marca1, marca2, marca3 = listas_Carros\n",
        "\n",
        "listas_Carros"
      ],
      "metadata": {
        "id": "5xOa-iySlMQD"
      },
      "execution_count": null,
      "outputs": []
    },
    {
      "cell_type": "code",
      "source": [
        "# Combinar variáveis\n",
        "nome1 = \"Garrido\",\n",
        "sobrenome2 = \"Macedo\"\n",
        "completoNome = nome1, sobrenome2\n",
        "completoNome"
      ],
      "metadata": {
        "id": "Sbxi2WHelpU7"
      },
      "execution_count": null,
      "outputs": []
    },
    {
      "cell_type": "code",
      "source": [
        "investimento = float(100)\n",
        "taxa_juros = float(0.8)\n",
        "calculo = investimento * taxa_juros\n",
        "ganho = (investimento * taxa_juros) + investimento\n",
        "\n",
        "print(\"Juros Acrescido: \",calculo, \" \\n Valor Ganho: \", ganho)\n",
        "\n"
      ],
      "metadata": {
        "id": "f1uu96vqmBk-"
      },
      "execution_count": null,
      "outputs": []
    }
  ]
}